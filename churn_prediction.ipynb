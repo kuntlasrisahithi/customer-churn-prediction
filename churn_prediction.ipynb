{
 "cells": [
  {
   "cell_type": "markdown",
   "id": "db2d1027",
   "metadata": {},
   "source": [
    "# Customer Churn Prediction Notebook\n",
    "\n",
    "uhh this is my notebook for churn prediction. i followed some steps and put the screenshots in outputs folder. dataset is expected in data/churn.csv"
   ]
  },
  {
   "cell_type": "code",
   "execution_count": null,
   "id": "bc4be7d6",
   "metadata": {},
   "outputs": [],
   "source": [
    "\n",
    "# Step 1: Import libraries\n",
    "import pandas as pd\n",
    "import numpy as np\n",
    "import matplotlib.pyplot as plt\n",
    "from sklearn.model_selection import train_test_split\n",
    "from sklearn.preprocessing import LabelEncoder, StandardScaler\n",
    "from sklearn.linear_model import LogisticRegression\n",
    "from sklearn.metrics import classification_report, confusion_matrix, accuracy_score\n",
    "\n",
    "print(\"libs imported\")\n"
   ]
  },
  {
   "cell_type": "code",
   "execution_count": null,
   "id": "8378bff8",
   "metadata": {},
   "outputs": [],
   "source": [
    "\n",
    "# Step 2: Load dataset (place your file as data/churn.csv)\n",
    "data = pd.read_csv(\"data/churn.csv\")\n",
    "print(data.head())\n"
   ]
  },
  {
   "cell_type": "code",
   "execution_count": null,
   "id": "cc0d5640",
   "metadata": {},
   "outputs": [],
   "source": [
    "\n",
    "# Step 3: Preprocessing\n",
    "data = data.dropna()\n",
    "le = LabelEncoder()\n",
    "if 'Gender' in data.columns:\n",
    "    data['Gender'] = le.fit_transform(data['Gender'])\n",
    "X = data.drop('Churn', axis=1)\n",
    "y = data['Churn']\n",
    "sc = StandardScaler()\n",
    "X_scaled = sc.fit_transform(X)\n"
   ]
  },
  {
   "cell_type": "code",
   "execution_count": null,
   "id": "f8f21bfb",
   "metadata": {},
   "outputs": [],
   "source": [
    "\n",
    "# Step 4: Split dataset\n",
    "X_train, X_test, y_train, y_test = train_test_split(X_scaled, y, test_size=0.2, random_state=42)\n",
    "print(len(X_train), len(X_test))\n"
   ]
  },
  {
   "cell_type": "code",
   "execution_count": null,
   "id": "8bd2f588",
   "metadata": {},
   "outputs": [],
   "source": [
    "\n",
    "# Step 5: Train model\n",
    "model = LogisticRegression()\n",
    "model.fit(X_train, y_train)\n",
    "y_pred = model.predict(X_test)\n",
    "\n",
    "print(\"Accuracy:\", accuracy_score(y_test, y_pred))\n",
    "print(confusion_matrix(y_test, y_pred))\n",
    "print(classification_report(y_test, y_pred))\n"
   ]
  },
  {
   "cell_type": "markdown",
   "id": "638ea643",
   "metadata": {},
   "source": [
    "## End\n",
    "\n",
    "thats all, check outputs folder for screenshots i attached separately."
   ]
  }
 ],
 "metadata": {},
 "nbformat": 4,
 "nbformat_minor": 5
}
